{
 "cells": [
  {
   "cell_type": "code",
   "execution_count": 1,
   "metadata": {},
   "outputs": [],
   "source": [
    "import pickle\n",
    "import json\n",
    "import pandas as pd\n",
    "import numpy as np"
   ]
  },
  {
   "cell_type": "code",
   "execution_count": 2,
   "metadata": {},
   "outputs": [],
   "source": [
    "matrix_duration = np.load('../matrices/matrice_durate_100.npy')"
   ]
  },
  {
   "cell_type": "code",
   "execution_count": 4,
   "metadata": {},
   "outputs": [],
   "source": [
    "with open('../coordinates/coord_par_100.json') as f:\n",
    "    coordinates = json.load(f)"
   ]
  },
  {
   "cell_type": "code",
   "execution_count": 5,
   "metadata": {},
   "outputs": [],
   "source": [
    "data_json = []\n",
    "c_nan = 0\n",
    "for row_index in range(matrix_duration.shape[0]):\n",
    "    for col_index in range(matrix_duration.shape[1]):\n",
    "        comb_dict = {}\n",
    "        comb_dict['from'] = coordinates[row_index][::-1]\n",
    "        comb_dict['to'] = coordinates[col_index][::-1]\n",
    "        comb_dict['time'] = matrix_duration[row_index, col_index] / 60\n",
    "        \n",
    "        if np.isnan(comb_dict['time']):\n",
    "            c_nan += 1\n",
    "            continue\n",
    "\n",
    "        data_json.append(comb_dict)\n"
   ]
  },
  {
   "cell_type": "markdown",
   "metadata": {},
   "source": [
    "# Map creation"
   ]
  },
  {
   "cell_type": "code",
   "execution_count": 8,
   "metadata": {},
   "outputs": [
    {
     "name": "stdout",
     "output_type": "stream",
     "text": [
      "Mappa salvata come mappa_interattiva.html\n"
     ]
    }
   ],
   "source": [
    "import folium\n",
    "import json\n",
    "from folium.plugins import MarkerCluster\n",
    "from folium import FeatureGroup\n",
    "\n",
    "# Esempio di dati: Lista di coordinate con tempi di percorrenza tra coppie di punti\n",
    "data = data_json\n",
    "\n",
    "# Creazione mappa centrata su Milano\n",
    "m = folium.Map(location=[48.86, 2.35], zoom_start=13)\n",
    "\n",
    "# Aggiungere punti\n",
    "marker_cluster = MarkerCluster(options={'maxClusterRadius': 10}).add_to(m)\n",
    "points = set()\n",
    "for item in data:\n",
    "    points.add(tuple(item['from']))\n",
    "    points.add(tuple(item['to']))\n",
    "\n",
    "for point in points:\n",
    "    folium.Marker(location=point).add_to(marker_cluster)\n",
    "\n",
    "# Salvare i dati delle linee in un oggetto JSON per JavaScript\n",
    "connections = [{'from': item['from'], 'to': item['to'], 'time': item['time']} for item in data]\n",
    "json_data = json.dumps(connections)\n",
    "\n",
    "# Aggiungere JavaScript personalizzato per lo slider\n",
    "slider_js = f'''\n",
    "<script>\n",
    "    var connections = {json_data};\n",
    "    document.addEventListener(\"DOMContentLoaded\", function() {{\n",
    "        window.map = {m.get_name()};\n",
    "    }});\n",
    "    function updateMap(value) {{\n",
    "    if (!window.map) return;\n",
    "    window.map.eachLayer(function(layer) {{\n",
    "        if (layer instanceof L.Polyline) {{\n",
    "            window.map.removeLayer(layer);\n",
    "        }}\n",
    "    }});\n",
    "    connections.forEach(function(conn) {{\n",
    "        if (conn.time <= value) {{\n",
    "            L.polyline([conn.from, conn.to], {{color: 'blue'}}).addTo(window.map);\n",
    "        }}\n",
    "    }});\n",
    "}}\n",
    "\n",
    "function rangeSlide(value) {{\n",
    "    document.getElementById('rangeValue').innerHTML = value;\n",
    "}}\n",
    "\n",
    "function main(value) {{\n",
    "    updateMap(value);\n",
    "    rangeSlide(value);\n",
    "}};\n",
    "</script>\n",
    "'''\n",
    "\n",
    "# Aggiungere il controllo slider nella mappa\n",
    "m.get_root().html.add_child(folium.Element(slider_js))\n",
    "\n",
    "# Salva la mappa\n",
    "m.save(\"../mappa_interattiva.html\")\n",
    "print(\"Mappa salvata come mappa_interattiva.html\")"
   ]
  },
  {
   "cell_type": "markdown",
   "metadata": {},
   "source": [
    "# Analisi spaziali"
   ]
  },
  {
   "cell_type": "code",
   "execution_count": 9,
   "metadata": {},
   "outputs": [],
   "source": [
    "from shapely.geometry import Point\n",
    "import geopandas as gpd"
   ]
  },
  {
   "cell_type": "code",
   "execution_count": 10,
   "metadata": {},
   "outputs": [],
   "source": [
    "df = pd.DataFrame(data_json)"
   ]
  },
  {
   "cell_type": "code",
   "execution_count": 11,
   "metadata": {},
   "outputs": [],
   "source": [
    "df['from'] = df['from'].apply(lambda coords: Point(coords[1], coords[0]))  # (long, lat)\n",
    "df['to'] = df['to'].apply(lambda coords: Point(coords[1], coords[0]))  # (long, lat)"
   ]
  },
  {
   "cell_type": "code",
   "execution_count": 12,
   "metadata": {},
   "outputs": [],
   "source": [
    "parigi_shapefile = gpd.read_file('../shapefiles/paris_arrondissement.geojson')"
   ]
  },
  {
   "cell_type": "code",
   "execution_count": 13,
   "metadata": {},
   "outputs": [],
   "source": [
    "parigi_shapefile = parigi_shapefile.to_crs(epsg=4326)"
   ]
  },
  {
   "cell_type": "code",
   "execution_count": 15,
   "metadata": {},
   "outputs": [],
   "source": [
    "# Creiamo un GeoDataFrame dal DataFrame originale per facilitare l'operazione spaziale\n",
    "gdf_from_points = gpd.GeoDataFrame(df, geometry='from', crs=\"EPSG:4326\")\n",
    "\n",
    "gdf_from_points = gpd.sjoin(gdf_from_points, parigi_shapefile[['c_ar', 'geometry']], how='left', predicate='within')\n",
    "\n",
    "gdf_from_points.rename(columns={'c_ar': 'from_arrondissement'}, inplace=True)\n",
    "\n",
    "gdf_from_points = gdf_from_points.drop(columns='index_right')"
   ]
  },
  {
   "cell_type": "code",
   "execution_count": 16,
   "metadata": {},
   "outputs": [],
   "source": [
    "gdf_to_points = gpd.GeoDataFrame(df, geometry='to', crs=\"EPSG:4326\")\n",
    "\n",
    "gdf_to_points = gpd.sjoin(gdf_to_points, parigi_shapefile[['c_ar', 'geometry']], how='left', predicate='within')\n",
    "\n",
    "gdf_to_points.rename(columns={'c_ar': 'to_arrondissement'}, inplace=True)\n",
    "\n",
    "gdf_to_points = gdf_to_points.drop(columns='index_right')"
   ]
  },
  {
   "cell_type": "code",
   "execution_count": 26,
   "metadata": {},
   "outputs": [],
   "source": [
    "# Uniamo i due GeoDataFrame per avere tutte le informazioni in un unico DataFrame\n",
    "gdf = gdf_from_points.merge(gdf_to_points[['to_arrondissement']], left_index=True, right_index=True)\n",
    "medie_tempi = (gdf.groupby('to_arrondissement')['time'].mean() + gdf.groupby('from_arrondissement')['time'].mean()) / 2\n",
    "max_tempi = (gdf.groupby('to_arrondissement')['time'].max() + gdf.groupby('from_arrondissement')['time'].max()) / 2\n",
    "\n",
    "tempi_df = parigi_shapefile.merge(medie_tempi, left_on='c_ar', right_index=True)\n",
    "\n",
    "tempi_df = tempi_df.rename(columns={'time': 'mean_time'})\n",
    "\n",
    "tempi_df = tempi_df.merge(max_tempi, left_on='c_ar', right_index=True)\n",
    "\n",
    "tempi_df = tempi_df.rename(columns={'time': 'max_time'})"
   ]
  },
  {
   "cell_type": "code",
   "execution_count": 28,
   "metadata": {},
   "outputs": [],
   "source": [
    "tempi_df.to_file('../static_maps_data/paris_times.geojson', driver='GeoJSON')"
   ]
  },
  {
   "cell_type": "code",
   "execution_count": null,
   "metadata": {},
   "outputs": [],
   "source": []
  }
 ],
 "metadata": {
  "kernelspec": {
   "display_name": "geo_env",
   "language": "python",
   "name": "python3"
  },
  "language_info": {
   "codemirror_mode": {
    "name": "ipython",
    "version": 3
   },
   "file_extension": ".py",
   "mimetype": "text/x-python",
   "name": "python",
   "nbconvert_exporter": "python",
   "pygments_lexer": "ipython3",
   "version": "3.12.0"
  }
 },
 "nbformat": 4,
 "nbformat_minor": 2
}
