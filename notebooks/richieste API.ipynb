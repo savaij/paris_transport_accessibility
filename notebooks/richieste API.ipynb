{
 "cells": [
  {
   "cell_type": "code",
   "execution_count": 1,
   "id": "6d2b1230",
   "metadata": {},
   "outputs": [],
   "source": [
    "import datetime\n",
    "import requests\n",
    "import json\n",
    "import numpy as np\n",
    "import pickle\n",
    "import os\n",
    "import folium\n",
    "import math"
   ]
  },
  {
   "cell_type": "markdown",
   "id": "b94fcf83",
   "metadata": {},
   "source": [
    "## Main function"
   ]
  },
  {
   "cell_type": "code",
   "execution_count": 2,
   "id": "8176c7b8",
   "metadata": {},
   "outputs": [],
   "source": [
    "def dividi(lista, chunk_size):\n",
    "    \n",
    "    return [lista[i:i + chunk_size] for i in range(0, len(lista), chunk_size)]\n",
    "\n",
    "def generate_combinations(chunks):\n",
    "\n",
    "    combinations = []\n",
    "    for i in range(len(chunks)):\n",
    "        for j in range(len(chunks)):\n",
    "            combinations.append((chunks[i], chunks[j]))\n",
    "    return combinations"
   ]
  },
  {
   "cell_type": "code",
   "execution_count": 3,
   "id": "7d00b76e",
   "metadata": {},
   "outputs": [],
   "source": [
    "def create_one_matrix(array):\n",
    "    n = int(np.sqrt(array.shape[0]))  # Calcola n\n",
    "    # Inizializza una lista per le righe concatenate\n",
    "    rows = []\n",
    "    for i in range(n):\n",
    "        # Concatenazione orizzontale delle matrici lungo una riga\n",
    "        row = np.concatenate(array[i*n:(i+1)*n], axis=1)\n",
    "        rows.append(row)\n",
    "    # Concatenazione verticale delle righe concatenate\n",
    "    large_matrix = np.concatenate(rows, axis=0)\n",
    "    return large_matrix"
   ]
  },
  {
   "cell_type": "code",
   "execution_count": 24,
   "id": "266025f7",
   "metadata": {},
   "outputs": [],
   "source": [
    "def main(file_path):\n",
    "    \"\"\"\n",
    "    file_path: path al file json con le coordinate dei punti in una città\n",
    "    Funzione che crea le matrici di distanze e tempi tra tutti i punti della città\n",
    "    e le salva in due file .npy\n",
    "    \"\"\"\n",
    "    \n",
    "    with open(file_path, 'r') as file:\n",
    "        data = json.load(file)\n",
    "    \n",
    "    chunks = dividi(data,10)\n",
    "    \n",
    "    combinations = generate_combinations(chunks)\n",
    "    \n",
    "    formatted_combinations = []\n",
    "    \n",
    "    for comb in combinations:\n",
    "       formatted_partenze = '|'.join([f\"{lat},{lon}\" for lon, lat in comb[0]]) \n",
    "       formatted_arrivi = '|'.join([f\"{lat},{lon}\" for lon, lat in comb[1]])\n",
    "       formatted_combinations.append([formatted_partenze, formatted_arrivi])\n",
    "    \n",
    "    base_url = 'https://maps.googleapis.com/maps/api/distancematrix/json'\n",
    "    \n",
    "    data = []\n",
    "    \n",
    "    for i in range(len(formatted_combinations)):\n",
    "\n",
    "        params = {\n",
    "            'key':'API_KEY',\n",
    "            'origins': formatted_combinations[i][0],\n",
    "            'destinations': formatted_combinations[i][1],\n",
    "            'departure_time': 1749542400,\n",
    "            'mode': 'transit'\n",
    "        }\n",
    "\n",
    "        r = requests.get(base_url, params=params)\n",
    "\n",
    "\n",
    "        if r.status_code == 200:\n",
    "            data.append(json.loads(r.content))\n",
    "\n",
    "        else:\n",
    "            print(f\"Errore con origine {formatted_data[i][0]} e destinazione {formatted_data[i][1]}: {r.status_code}\")\n",
    "\n",
    "\n",
    "    matrici_distances = []\n",
    "    matrici_durations = []\n",
    "\n",
    "    # Itera su ogni elemento di data\n",
    "    for i in range(len(data)):\n",
    "\n",
    "        # Inizializza le matrici di distanza e durata con np.nan\n",
    "        distances = np.full((10, 10), np.nan)  # Usiamo (2, 2) per semplificare l'esempio, dovresti usare (10, 10)\n",
    "        durations = np.full((10, 10), np.nan)  # Usiamo (2, 2) per semplificare l'esempio, dovresti usare (10, 10)\n",
    "\n",
    "        # Popola le matrici con i valori appropriati\n",
    "        for l, row in enumerate(data[i]['rows']):\n",
    "            for m, element in enumerate(row['elements']):\n",
    "                if element['status'] == 'OK':\n",
    "                    distances[l, m] = element['distance']['value']\n",
    "                    durations[l, m] = element['duration']['value']\n",
    "\n",
    "        matrici_distances.append(distances)\n",
    "        matrici_durations.append(durations)\n",
    "    \n",
    "    \n",
    "    array_d = np.array(matrici_distances)\n",
    "    array_t = np.array(matrici_durations)\n",
    "    \n",
    "    matrice_d = create_one_matrix(array_d)\n",
    "    matrice_t = create_one_matrix(array_t)\n",
    "    \n",
    "    \n",
    "    np.save(\"../matrices/matrice_distanze_100.npy\", matrice_d)\n",
    "    np.save(\"../matrices/matrice_durate_100.npy\", matrice_t)\n",
    "    \n",
    "    print(matrice_d.shape)\n",
    "    \n",
    "    return None"
   ]
  },
  {
   "cell_type": "code",
   "execution_count": null,
   "id": "f51bb93a",
   "metadata": {},
   "outputs": [
    {
     "data": {
      "text/plain": [
       "(100, 100)"
      ]
     },
     "execution_count": 23,
     "metadata": {},
     "output_type": "execute_result"
    }
   ],
   "source": [
    "main('../coordinates/coordinates_100.json')"
   ]
  }
 ],
 "metadata": {
  "kernelspec": {
   "display_name": "geo_env",
   "language": "python",
   "name": "python3"
  },
  "language_info": {
   "codemirror_mode": {
    "name": "ipython",
    "version": 3
   },
   "file_extension": ".py",
   "mimetype": "text/x-python",
   "name": "python",
   "nbconvert_exporter": "python",
   "pygments_lexer": "ipython3",
   "version": "3.12.0"
  }
 },
 "nbformat": 4,
 "nbformat_minor": 5
}
